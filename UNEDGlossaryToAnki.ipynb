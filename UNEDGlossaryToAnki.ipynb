{
 "cells": [
  {
   "cell_type": "code",
   "execution_count": 128,
   "metadata": {},
   "outputs": [],
   "source": [
    "# Read glossary file.\n",
    "with open('./data/glossary_gei.txt', 'r') as f:\n",
    "    lines = f.readlines()"
   ]
  },
  {
   "cell_type": "code",
   "execution_count": 129,
   "metadata": {},
   "outputs": [],
   "source": [
    "# Clean up unnecesary format.\n",
    "import re\n",
    "\n",
    "RE_TAG = re.compile('<.*?>')\n",
    "\n",
    "glossary = []\n",
    "\n",
    "for line in lines:\n",
    "    if line.startswith(':'):\n",
    "        # The term always starts with ':'\n",
    "        term = line.replace(':', '').replace('\\n', '')\n",
    "        glossary.append(term)\n",
    "    elif line.strip() == '{<font size=\"3\">':\n",
    "        # If a line starts with '{' is declaring a format\n",
    "        # and some HTML attributes that we don't need.\n",
    "        continue\n",
    "    else:\n",
    "        # The definition may contain some HTML tags, so we need\n",
    "        # To remove them.\n",
    "        definition = re.sub(RE_TAG, '', line).replace('{', '').replace(' } text/html', '').replace('&nbsp;} text/html', '').strip()\n",
    "        glossary.append(definition)"
   ]
  },
  {
   "cell_type": "code",
   "execution_count": 130,
   "metadata": {},
   "outputs": [],
   "source": [
    "# Due to the inconsistency in the format, some lines may be empty.\n",
    "# We need to clean them up to avoid errors when paring terms with their definition.\n",
    "glossary = [item for item in glossary if item != '']"
   ]
  },
  {
   "cell_type": "code",
   "execution_count": 131,
   "metadata": {},
   "outputs": [],
   "source": [
    "# Group each term with its definition.\n",
    "mapped = [glossary[i:i + 2] for i in range(0, len(glossary), 2)]"
   ]
  },
  {
   "cell_type": "code",
   "execution_count": 132,
   "metadata": {},
   "outputs": [],
   "source": [
    "# Create Anki card's model.\n",
    "import random\n",
    "import genanki\n",
    "\n",
    "model_id = random.randrange(1 << 30 << 31)\n",
    "\n",
    "model = genanki.Model(\n",
    "    model_id,\n",
    "    \"Glossary Card Model\",\n",
    "    fields=[\n",
    "        {\"name\": \"Question\"},\n",
    "        {\"name\": \"Answer\"},\n",
    "    ],\n",
    "    templates=[\n",
    "        {\n",
    "            \"name\": \"Card 1\",\n",
    "            \"qfmt\": \"{{Question}}\",\n",
    "            \"afmt\": '{{FrontSide}}<hr id=\"answer\">{{Answer}}',\n",
    "        },\n",
    "    ],\n",
    ")"
   ]
  },
  {
   "cell_type": "code",
   "execution_count": 133,
   "metadata": {},
   "outputs": [],
   "source": [
    "# Use Anki model to generate notes.\n",
    "notes = [genanki.Note(model=model, fields=pair) for pair in mapped]"
   ]
  },
  {
   "cell_type": "code",
   "execution_count": 134,
   "metadata": {},
   "outputs": [],
   "source": [
    "# Create Anki deck and add notes.\n",
    "deck_id = random.randrange(1 << 30 << 31)\n",
    "\n",
    "deck = genanki.Deck(\n",
    "    deck_id,\n",
    "    'GEI',\n",
    ")\n",
    "\n",
    "for note in notes:\n",
    "    deck.add_note(note)"
   ]
  },
  {
   "cell_type": "code",
   "execution_count": 135,
   "metadata": {},
   "outputs": [],
   "source": [
    "# Generate Anki .apkg file.\n",
    "genanki.Package(deck).write_to_file('output.apkg')"
   ]
  },
  {
   "cell_type": "code",
   "execution_count": 136,
   "metadata": {},
   "outputs": [],
   "source": [
    "# Generate .csv file just in case.\n",
    "import csv\n",
    "\n",
    "fields = ['Term', 'Definition']\n",
    "\n",
    "with open('output.csv', 'w') as file:\n",
    "    writer = csv.writer(file)\n",
    "    writer.writerow(fields)\n",
    "    writer.writerows(mapped)"
   ]
  }
 ],
 "metadata": {
  "kernelspec": {
   "display_name": "Python 3.10.7 ('.venv': poetry)",
   "language": "python",
   "name": "python3"
  },
  "language_info": {
   "codemirror_mode": {
    "name": "ipython",
    "version": 3
   },
   "file_extension": ".py",
   "mimetype": "text/x-python",
   "name": "python",
   "nbconvert_exporter": "python",
   "pygments_lexer": "ipython3",
   "version": "3.10.7"
  },
  "orig_nbformat": 4,
  "vscode": {
   "interpreter": {
    "hash": "065356e9d4a8a5f6e446fa481d36a722c0cd3c44f70837ad6f24442fcb2e0445"
   }
  }
 },
 "nbformat": 4,
 "nbformat_minor": 2
}
